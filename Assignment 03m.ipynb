{
 "cells": [
  {
   "cell_type": "markdown",
   "metadata": {},
   "source": [
    "**1.Explain the term machine learning, and how does it work? Explain two machine learning applications in the business world. What are some of the ethical concerns that machine learning applications could raise?**"
   ]
  },
  {
   "cell_type": "markdown",
   "metadata": {},
   "source": [
    "Ans-\n",
    "\n",
    "Machine learning is a form of artificial intelligence (AI) that teaches computers to think in a similar way to how humans do: Learning and improving upon past experiences. \n",
    "It works by exploring data and identifying patterns, and involves minimal human intervention. It train the model with some training data and then once it gets perfectly created, it predicts the test data.\n",
    "\n",
    "\n",
    "    "
   ]
  },
  {
   "cell_type": "markdown",
   "metadata": {},
   "source": [
    "**3. Provide a few examples of various types of machine learning.**"
   ]
  },
  {
   "cell_type": "markdown",
   "metadata": {},
   "source": [
    "Ans-\n",
    "\n",
    "1.Supervised learning- In Supervised learning algorithms, you train the machine using data which is well \"labelled.\"\n",
    "2.Unsupervised learning- Unsupervised learning is a type of machine learning in which the algorithm is not provided with any pre-assigned labels or scores for the training data. \n",
    "3.Reinforcement learning"
   ]
  },
  {
   "cell_type": "markdown",
   "metadata": {},
   "source": [
    "**4. Examine the various forms of machine learning.**"
   ]
  },
  {
   "cell_type": "markdown",
   "metadata": {},
   "source": [
    "Ans-\n",
    "\n",
    "supervised learning, unsupervised learning, and reinforcement learning"
   ]
  },
  {
   "cell_type": "markdown",
   "metadata": {},
   "source": [
    "**5. Can you explain what a well-posed learning problem is? Explain the main characteristics that must be present to identify a learning problem properly.**"
   ]
  },
  {
   "cell_type": "markdown",
   "metadata": {},
   "source": [
    "Ans-\n",
    "A (machine learning) problem is well-posed if a solution to it exists, if that solution is unique, and if that solution depends on the data / experience but it is not sensitive to (reasonably small) changes in the data / experience.\n",
    "\n",
    "Main characteristics are:\n",
    "\n",
    "1) Learning: In this data are trying to learn the pattern or relation between the independent features and depeendetn features.\n",
    "\n",
    "2) Performance: In this we check for the new unkown data what performance they give when unknow data set is passed to the machine learning model.\n",
    "\n",
    "3) Evaluation: In this we evaluate hwo good is our model\n"
   ]
  },
  {
   "cell_type": "markdown",
   "metadata": {},
   "source": [
    "**6. Is machine learning capable of solving all problems? Give a detailed explanation of your answer.**"
   ]
  },
  {
   "cell_type": "markdown",
   "metadata": {},
   "source": [
    "Ans-\n",
    "No it is not necessary that ML can solve all the problems with good performance.\n",
    "\n",
    "It has some limitations:\n",
    "    \n",
    "1) Ethics: The most commonly discussed case currently is self-driving cars — how do we choose how the vehicle should react in the event of a fatal collision? In the future will we have to select which ethical framework we want our self-driving car to follow when we are purchasing the vehicle?\n",
    "           If my self-driving car kills someone on the road, whose fault is it? \n",
    "\n",
    "2) Deterministic Problems: Machine learning is stochastic, not deterministic.\n",
    "\n",
    "3) Data: This is the most obvious limitation. If you feed a model poorly, then it will only give you poor results. This can manifest itself in two ways: lack of data, and lack of good data."
   ]
  },
  {
   "cell_type": "markdown",
   "metadata": {},
   "source": [
    "**7. What are the various methods and technologies for solving machine learning problems? Any two of them should be defined in detail.**\n",
    "Ans-\n",
    "Various Methods-\n",
    "1-Regression-  Regression in machine learning consists of mathematical methods that allow to predict a continuous outcome (y) based on the value of one or more predictor variables (x). Linear regression is probably the most popular form of regression analysis because of its ease-of-use in predicting and forecasting.\n",
    "\n",
    "2-Classification- In machine learning, classification refers to a predictive modeling problem where a class label is predicted for a given example of input data. Examples of classification problems include: Given an example, classify if it is spam or not. Given a handwritten character, classify it as one of the known characters.\n",
    "\n",
    "\n",
    "\n",
    "\n",
    "\n",
    "3-Clustering.\n",
    "4-Dimensionality Reduction.\n",
    "5-Ensemble Methods.\n",
    "6-Neural Nets and Deep Learning.\n",
    "7-Transfer Learning.\n",
    "8-Reinforcement Learning."
   ]
  },
  {
   "cell_type": "markdown",
   "metadata": {},
   "source": [
    "**8. Can you explain the various forms of supervised learning? Explain each one with an example application.**\n",
    "Ans-\n",
    "Types of supervised learning\n",
    "1. Regression · 2. Classification · 3. Naive Bayesian Model · 4. Random Forest Model · 5. Neural Networks · 6. Support Vector Machines.\n",
    "\n",
    "\n",
    "Regresssion- Regression in machine learning consists of mathematical methods that allow to predict a continuous outcome (y) based on the value of one or more predictor variables (x). Linear regression is probably the most popular form of regression analysis because of its ease-of-use in predicting and forecasting."
   ]
  },
  {
   "cell_type": "markdown",
   "metadata": {},
   "source": [
    "**9. What is the difference between supervised and unsupervised learning? With a sample application in each region, explain the differences.**\n",
    "\n",
    "Ans-\n",
    "Supervised learning- Supervised learning is a machine learning approach that’s defined by its use of labeled datasets. These datasets are designed to train or “supervise” algorithms into classifying data or predicting outcomes accurately. Using labeled inputs and outputs, the model can measure its accuracy and learn over time.\n",
    "\n",
    "Unsupervised learning- Unsupervised learning uses machine learning algorithms to analyze and cluster unlabeled data sets. These algorithms discover hidden patterns in data without the need for human intervention (hence, they are “unsupervised”)."
   ]
  },
  {
   "cell_type": "markdown",
   "metadata": {},
   "source": [
    "**11. Make a comparison between:-**\n",
    "\n",
    "1. Generalization and abstraction- While abstraction reduces complexity by hiding irrelevant detail, generalization reduces complexity by replacing multiple entities which perform similar functions with a single construct.\n",
    "\n",
    "2. Learning that is guided and unsupervised- supervised and unsupervised learning describes two different ways in which machine learning algorithms can learn from data and make predictions. The most fundamental difference between them is that supervised learning algorithms already know the output, while unsupervised algorithms don't.\n",
    "\n",
    "3. Regression and classification- The main difference between Regression and Classification algorithms that Regression algorithms are used to predict the continuous values such as price, salary, age, etc. and Classification algorithms are used to predict/Classify the discrete values such as Male or Female, True or False, Spam or Not Spam, etc.\n"
   ]
  },
  {
   "cell_type": "code",
   "execution_count": null,
   "metadata": {},
   "outputs": [],
   "source": []
  },
  {
   "cell_type": "code",
   "execution_count": null,
   "metadata": {},
   "outputs": [],
   "source": []
  },
  {
   "cell_type": "code",
   "execution_count": null,
   "metadata": {},
   "outputs": [],
   "source": []
  },
  {
   "cell_type": "code",
   "execution_count": null,
   "metadata": {},
   "outputs": [],
   "source": []
  },
  {
   "cell_type": "code",
   "execution_count": null,
   "metadata": {},
   "outputs": [],
   "source": []
  }
 ],
 "metadata": {
  "kernelspec": {
   "display_name": "Python 3",
   "language": "python",
   "name": "python3"
  },
  "language_info": {
   "codemirror_mode": {
    "name": "ipython",
    "version": 3
   },
   "file_extension": ".py",
   "mimetype": "text/x-python",
   "name": "python",
   "nbconvert_exporter": "python",
   "pygments_lexer": "ipython3",
   "version": "3.8.5"
  }
 },
 "nbformat": 4,
 "nbformat_minor": 5
}
